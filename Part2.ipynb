{
 "cells": [
  {
   "cell_type": "markdown",
   "id": "4aee7ef7",
   "metadata": {},
   "source": [
    "# ⚠️ **Important Disclaimer**\n",
    "\n",
    "Do **not edit or delete** any of the **Markdown cells** (the ones containing the questions and instructions).\n",
    "\n",
    "Only write your answers in the **code cells provided below each question**.  \n",
    "This ensures consistency during our feedback process."
   ]
  },
  {
   "cell_type": "markdown",
   "id": "8af053ec",
   "metadata": {},
   "source": [
    "### Q1. Load and Explore the Dataset\n",
    "\n",
    "Load the `AirQalityDataset.csv` file into a pandas DataFrame using the correct separator.\n",
    "\n",
    "After loading the data:\n",
    "\n",
    "1. Display basic information about the dataset.\n",
    "2. Save the statistical description of the dataset into a separate variable.\n",
    "3. Drop fully empty/unnamed columns, and rows\n",
    "4. Use `type()` to print the type of that description variable."
   ]
  },
  {
   "cell_type": "code",
   "execution_count": null,
   "id": "40dd38f3",
   "metadata": {},
   "outputs": [],
   "source": [
    "# your Code Here\n",
    "\n",
    "import numpy as np\n",
    "np.random.seed(0)\n",
    "import pandas as pd\n",
    "\n",
    "df = pd.read_csv(\"AirQualityDataset.csv\", sep=';')"
   ]
  },
  {
   "cell_type": "code",
   "execution_count": 4,
   "id": "e66fa8e5",
   "metadata": {},
   "outputs": [
    {
     "name": "stdout",
     "output_type": "stream",
     "text": [
      "\n",
      "Basic Information of the dataset\n",
      "<class 'pandas.core.frame.DataFrame'>\n",
      "RangeIndex: 9471 entries, 0 to 9470\n",
      "Data columns (total 17 columns):\n",
      " #   Column         Non-Null Count  Dtype  \n",
      "---  ------         --------------  -----  \n",
      " 0   Date           9357 non-null   object \n",
      " 1   Time           9357 non-null   object \n",
      " 2   CO(GT)         9357 non-null   float64\n",
      " 3   PT08.S1(CO)    9357 non-null   float64\n",
      " 4   NMHC(GT)       9357 non-null   float64\n",
      " 5   C6H6(GT)       9357 non-null   float64\n",
      " 6   PT08.S2(NMHC)  9357 non-null   float64\n",
      " 7   NOx(GT)        9357 non-null   float64\n",
      " 8   PT08.S3(NOx)   9357 non-null   float64\n",
      " 9   NO2(GT)        9357 non-null   float64\n",
      " 10  PT08.S4(NO2)   9357 non-null   float64\n",
      " 11  PT08.S5(O3)    9357 non-null   float64\n",
      " 12  T              9357 non-null   float64\n",
      " 13  RH             9357 non-null   float64\n",
      " 14  AH             9357 non-null   float64\n",
      " 15  Unnamed: 15    0 non-null      float64\n",
      " 16  Unnamed: 16    0 non-null      float64\n",
      "dtypes: float64(15), object(2)\n",
      "memory usage: 1.2+ MB\n",
      "<class 'pandas.core.frame.DataFrame'>\n"
     ]
    }
   ],
   "source": [
    "\n",
    "print(\"\\nBasic Information of the dataset\")\n",
    "df.info()\n",
    "\n",
    "description = df.describe()\n",
    "\n",
    "print(type(description))"
   ]
  },
  {
   "cell_type": "code",
   "execution_count": 5,
   "id": "c08a94c9",
   "metadata": {},
   "outputs": [
    {
     "data": {
      "text/html": [
       "<div>\n",
       "<style scoped>\n",
       "    .dataframe tbody tr th:only-of-type {\n",
       "        vertical-align: middle;\n",
       "    }\n",
       "\n",
       "    .dataframe tbody tr th {\n",
       "        vertical-align: top;\n",
       "    }\n",
       "\n",
       "    .dataframe thead th {\n",
       "        text-align: right;\n",
       "    }\n",
       "</style>\n",
       "<table border=\"1\" class=\"dataframe\">\n",
       "  <thead>\n",
       "    <tr style=\"text-align: right;\">\n",
       "      <th></th>\n",
       "      <th>Date</th>\n",
       "      <th>Time</th>\n",
       "      <th>CO(GT)</th>\n",
       "      <th>PT08.S1(CO)</th>\n",
       "      <th>NMHC(GT)</th>\n",
       "      <th>C6H6(GT)</th>\n",
       "      <th>PT08.S2(NMHC)</th>\n",
       "      <th>NOx(GT)</th>\n",
       "      <th>PT08.S3(NOx)</th>\n",
       "      <th>NO2(GT)</th>\n",
       "      <th>PT08.S4(NO2)</th>\n",
       "      <th>PT08.S5(O3)</th>\n",
       "      <th>T</th>\n",
       "      <th>RH</th>\n",
       "      <th>AH</th>\n",
       "      <th>Unnamed: 15</th>\n",
       "      <th>Unnamed: 16</th>\n",
       "    </tr>\n",
       "  </thead>\n",
       "  <tbody>\n",
       "    <tr>\n",
       "      <th>0</th>\n",
       "      <td>10/03/2004</td>\n",
       "      <td>18.00.00</td>\n",
       "      <td>2.6</td>\n",
       "      <td>1360.0</td>\n",
       "      <td>150.0</td>\n",
       "      <td>11.9</td>\n",
       "      <td>1046.0</td>\n",
       "      <td>166.0</td>\n",
       "      <td>1056.0</td>\n",
       "      <td>113.0</td>\n",
       "      <td>1692.0</td>\n",
       "      <td>1268.0</td>\n",
       "      <td>13.6</td>\n",
       "      <td>48.9</td>\n",
       "      <td>0.7578</td>\n",
       "      <td>NaN</td>\n",
       "      <td>NaN</td>\n",
       "    </tr>\n",
       "    <tr>\n",
       "      <th>1</th>\n",
       "      <td>10/03/2004</td>\n",
       "      <td>19.00.00</td>\n",
       "      <td>2.0</td>\n",
       "      <td>1292.0</td>\n",
       "      <td>112.0</td>\n",
       "      <td>9.4</td>\n",
       "      <td>955.0</td>\n",
       "      <td>103.0</td>\n",
       "      <td>1174.0</td>\n",
       "      <td>92.0</td>\n",
       "      <td>1559.0</td>\n",
       "      <td>972.0</td>\n",
       "      <td>13.3</td>\n",
       "      <td>47.7</td>\n",
       "      <td>0.7255</td>\n",
       "      <td>NaN</td>\n",
       "      <td>NaN</td>\n",
       "    </tr>\n",
       "    <tr>\n",
       "      <th>2</th>\n",
       "      <td>10/03/2004</td>\n",
       "      <td>20.00.00</td>\n",
       "      <td>2.2</td>\n",
       "      <td>1402.0</td>\n",
       "      <td>88.0</td>\n",
       "      <td>9.0</td>\n",
       "      <td>939.0</td>\n",
       "      <td>131.0</td>\n",
       "      <td>1140.0</td>\n",
       "      <td>114.0</td>\n",
       "      <td>1555.0</td>\n",
       "      <td>1074.0</td>\n",
       "      <td>11.9</td>\n",
       "      <td>54.0</td>\n",
       "      <td>0.7502</td>\n",
       "      <td>NaN</td>\n",
       "      <td>NaN</td>\n",
       "    </tr>\n",
       "    <tr>\n",
       "      <th>3</th>\n",
       "      <td>10/03/2004</td>\n",
       "      <td>21.00.00</td>\n",
       "      <td>2.2</td>\n",
       "      <td>1376.0</td>\n",
       "      <td>80.0</td>\n",
       "      <td>9.2</td>\n",
       "      <td>948.0</td>\n",
       "      <td>172.0</td>\n",
       "      <td>1092.0</td>\n",
       "      <td>122.0</td>\n",
       "      <td>1584.0</td>\n",
       "      <td>1203.0</td>\n",
       "      <td>11.0</td>\n",
       "      <td>60.0</td>\n",
       "      <td>0.7867</td>\n",
       "      <td>NaN</td>\n",
       "      <td>NaN</td>\n",
       "    </tr>\n",
       "    <tr>\n",
       "      <th>4</th>\n",
       "      <td>10/03/2004</td>\n",
       "      <td>22.00.00</td>\n",
       "      <td>1.6</td>\n",
       "      <td>1272.0</td>\n",
       "      <td>51.0</td>\n",
       "      <td>6.5</td>\n",
       "      <td>836.0</td>\n",
       "      <td>131.0</td>\n",
       "      <td>1205.0</td>\n",
       "      <td>116.0</td>\n",
       "      <td>1490.0</td>\n",
       "      <td>1110.0</td>\n",
       "      <td>11.2</td>\n",
       "      <td>59.6</td>\n",
       "      <td>0.7888</td>\n",
       "      <td>NaN</td>\n",
       "      <td>NaN</td>\n",
       "    </tr>\n",
       "  </tbody>\n",
       "</table>\n",
       "</div>"
      ],
      "text/plain": [
       "         Date      Time  CO(GT)  PT08.S1(CO)  NMHC(GT)  C6H6(GT)  \\\n",
       "0  10/03/2004  18.00.00     2.6       1360.0     150.0      11.9   \n",
       "1  10/03/2004  19.00.00     2.0       1292.0     112.0       9.4   \n",
       "2  10/03/2004  20.00.00     2.2       1402.0      88.0       9.0   \n",
       "3  10/03/2004  21.00.00     2.2       1376.0      80.0       9.2   \n",
       "4  10/03/2004  22.00.00     1.6       1272.0      51.0       6.5   \n",
       "\n",
       "   PT08.S2(NMHC)  NOx(GT)  PT08.S3(NOx)  NO2(GT)  PT08.S4(NO2)  PT08.S5(O3)  \\\n",
       "0         1046.0    166.0        1056.0    113.0        1692.0       1268.0   \n",
       "1          955.0    103.0        1174.0     92.0        1559.0        972.0   \n",
       "2          939.0    131.0        1140.0    114.0        1555.0       1074.0   \n",
       "3          948.0    172.0        1092.0    122.0        1584.0       1203.0   \n",
       "4          836.0    131.0        1205.0    116.0        1490.0       1110.0   \n",
       "\n",
       "      T    RH      AH  Unnamed: 15  Unnamed: 16  \n",
       "0  13.6  48.9  0.7578          NaN          NaN  \n",
       "1  13.3  47.7  0.7255          NaN          NaN  \n",
       "2  11.9  54.0  0.7502          NaN          NaN  \n",
       "3  11.0  60.0  0.7867          NaN          NaN  \n",
       "4  11.2  59.6  0.7888          NaN          NaN  "
      ]
     },
     "execution_count": 5,
     "metadata": {},
     "output_type": "execute_result"
    }
   ],
   "source": [
    "df.head()"
   ]
  },
  {
   "cell_type": "code",
   "execution_count": 6,
   "id": "b74149bf",
   "metadata": {},
   "outputs": [
    {
     "data": {
      "text/html": [
       "<div>\n",
       "<style scoped>\n",
       "    .dataframe tbody tr th:only-of-type {\n",
       "        vertical-align: middle;\n",
       "    }\n",
       "\n",
       "    .dataframe tbody tr th {\n",
       "        vertical-align: top;\n",
       "    }\n",
       "\n",
       "    .dataframe thead th {\n",
       "        text-align: right;\n",
       "    }\n",
       "</style>\n",
       "<table border=\"1\" class=\"dataframe\">\n",
       "  <thead>\n",
       "    <tr style=\"text-align: right;\">\n",
       "      <th></th>\n",
       "      <th>Date</th>\n",
       "      <th>Time</th>\n",
       "      <th>CO(GT)</th>\n",
       "      <th>PT08.S1(CO)</th>\n",
       "      <th>NMHC(GT)</th>\n",
       "      <th>C6H6(GT)</th>\n",
       "      <th>PT08.S2(NMHC)</th>\n",
       "      <th>NOx(GT)</th>\n",
       "      <th>PT08.S3(NOx)</th>\n",
       "      <th>NO2(GT)</th>\n",
       "      <th>PT08.S4(NO2)</th>\n",
       "      <th>PT08.S5(O3)</th>\n",
       "      <th>T</th>\n",
       "      <th>RH</th>\n",
       "      <th>AH</th>\n",
       "    </tr>\n",
       "  </thead>\n",
       "  <tbody>\n",
       "    <tr>\n",
       "      <th>0</th>\n",
       "      <td>10/03/2004</td>\n",
       "      <td>18.00.00</td>\n",
       "      <td>2.6</td>\n",
       "      <td>1360.0</td>\n",
       "      <td>150.0</td>\n",
       "      <td>11.9</td>\n",
       "      <td>1046.0</td>\n",
       "      <td>166.0</td>\n",
       "      <td>1056.0</td>\n",
       "      <td>113.0</td>\n",
       "      <td>1692.0</td>\n",
       "      <td>1268.0</td>\n",
       "      <td>13.6</td>\n",
       "      <td>48.9</td>\n",
       "      <td>0.7578</td>\n",
       "    </tr>\n",
       "    <tr>\n",
       "      <th>1</th>\n",
       "      <td>10/03/2004</td>\n",
       "      <td>19.00.00</td>\n",
       "      <td>2.0</td>\n",
       "      <td>1292.0</td>\n",
       "      <td>112.0</td>\n",
       "      <td>9.4</td>\n",
       "      <td>955.0</td>\n",
       "      <td>103.0</td>\n",
       "      <td>1174.0</td>\n",
       "      <td>92.0</td>\n",
       "      <td>1559.0</td>\n",
       "      <td>972.0</td>\n",
       "      <td>13.3</td>\n",
       "      <td>47.7</td>\n",
       "      <td>0.7255</td>\n",
       "    </tr>\n",
       "    <tr>\n",
       "      <th>2</th>\n",
       "      <td>10/03/2004</td>\n",
       "      <td>20.00.00</td>\n",
       "      <td>2.2</td>\n",
       "      <td>1402.0</td>\n",
       "      <td>88.0</td>\n",
       "      <td>9.0</td>\n",
       "      <td>939.0</td>\n",
       "      <td>131.0</td>\n",
       "      <td>1140.0</td>\n",
       "      <td>114.0</td>\n",
       "      <td>1555.0</td>\n",
       "      <td>1074.0</td>\n",
       "      <td>11.9</td>\n",
       "      <td>54.0</td>\n",
       "      <td>0.7502</td>\n",
       "    </tr>\n",
       "    <tr>\n",
       "      <th>3</th>\n",
       "      <td>10/03/2004</td>\n",
       "      <td>21.00.00</td>\n",
       "      <td>2.2</td>\n",
       "      <td>1376.0</td>\n",
       "      <td>80.0</td>\n",
       "      <td>9.2</td>\n",
       "      <td>948.0</td>\n",
       "      <td>172.0</td>\n",
       "      <td>1092.0</td>\n",
       "      <td>122.0</td>\n",
       "      <td>1584.0</td>\n",
       "      <td>1203.0</td>\n",
       "      <td>11.0</td>\n",
       "      <td>60.0</td>\n",
       "      <td>0.7867</td>\n",
       "    </tr>\n",
       "    <tr>\n",
       "      <th>4</th>\n",
       "      <td>10/03/2004</td>\n",
       "      <td>22.00.00</td>\n",
       "      <td>1.6</td>\n",
       "      <td>1272.0</td>\n",
       "      <td>51.0</td>\n",
       "      <td>6.5</td>\n",
       "      <td>836.0</td>\n",
       "      <td>131.0</td>\n",
       "      <td>1205.0</td>\n",
       "      <td>116.0</td>\n",
       "      <td>1490.0</td>\n",
       "      <td>1110.0</td>\n",
       "      <td>11.2</td>\n",
       "      <td>59.6</td>\n",
       "      <td>0.7888</td>\n",
       "    </tr>\n",
       "  </tbody>\n",
       "</table>\n",
       "</div>"
      ],
      "text/plain": [
       "         Date      Time  CO(GT)  PT08.S1(CO)  NMHC(GT)  C6H6(GT)  \\\n",
       "0  10/03/2004  18.00.00     2.6       1360.0     150.0      11.9   \n",
       "1  10/03/2004  19.00.00     2.0       1292.0     112.0       9.4   \n",
       "2  10/03/2004  20.00.00     2.2       1402.0      88.0       9.0   \n",
       "3  10/03/2004  21.00.00     2.2       1376.0      80.0       9.2   \n",
       "4  10/03/2004  22.00.00     1.6       1272.0      51.0       6.5   \n",
       "\n",
       "   PT08.S2(NMHC)  NOx(GT)  PT08.S3(NOx)  NO2(GT)  PT08.S4(NO2)  PT08.S5(O3)  \\\n",
       "0         1046.0    166.0        1056.0    113.0        1692.0       1268.0   \n",
       "1          955.0    103.0        1174.0     92.0        1559.0        972.0   \n",
       "2          939.0    131.0        1140.0    114.0        1555.0       1074.0   \n",
       "3          948.0    172.0        1092.0    122.0        1584.0       1203.0   \n",
       "4          836.0    131.0        1205.0    116.0        1490.0       1110.0   \n",
       "\n",
       "      T    RH      AH  \n",
       "0  13.6  48.9  0.7578  \n",
       "1  13.3  47.7  0.7255  \n",
       "2  11.9  54.0  0.7502  \n",
       "3  11.0  60.0  0.7867  \n",
       "4  11.2  59.6  0.7888  "
      ]
     },
     "execution_count": 6,
     "metadata": {},
     "output_type": "execute_result"
    }
   ],
   "source": [
    "df = df.loc[:, ~df.columns.str.contains('^Unnamed')]\n",
    "df.head()"
   ]
  },
  {
   "cell_type": "markdown",
   "id": "1418f2ab",
   "metadata": {},
   "source": [
    "### Q2. Dataset structure and features overview  \n",
    "Write a code to collect:\n",
    "1. The number of rows and columns in the dataset.\n",
    "2. The list of first 10 feature columns excluding `'Date'` and `'Time'`.  \n",
    "\n",
    "Store both lists in tuple called `dataset_info` and print it."
   ]
  },
  {
   "cell_type": "code",
   "execution_count": 43,
   "id": "60dbde36",
   "metadata": {},
   "outputs": [
    {
     "name": "stdout",
     "output_type": "stream",
     "text": [
      "(9471, 18)\n",
      "['Date', 'Time', 'CO(GT)', 'PT08.S1(CO)', 'NMHC(GT)', 'C6H6(GT)', 'PT08.S2(NMHC)', 'NOx(GT)', 'PT08.S3(NOx)', 'NO2(GT)', 'PT08.S4(NO2)', 'PT08.S5(O3)', 'T', 'RH', 'AH', 'humidity_band', 'PT08.S1_noisy', 'moisture_index']\n"
     ]
    }
   ],
   "source": [
    "print(df.shape)\n",
    "print(df.columns.tolist())\n"
   ]
  },
  {
   "cell_type": "code",
   "execution_count": 44,
   "id": "1d4593bc",
   "metadata": {},
   "outputs": [
    {
     "name": "stdout",
     "output_type": "stream",
     "text": [
      "Number of rows = {df.shape[0]}  \n",
      "Number of columns = {df.shape[1]}\n",
      "\n",
      " frist 10 columns: ['CO(GT)', 'PT08.S1(CO)', 'NMHC(GT)', 'C6H6(GT)', 'PT08.S2(NMHC)', 'NOx(GT)', 'PT08.S3(NOx)', 'NO2(GT)', 'PT08.S4(NO2)', 'PT08.S5(O3)']\n",
      "\n",
      " dataset in tuple: ((9471, 18), ['CO(GT)', 'PT08.S1(CO)', 'NMHC(GT)', 'C6H6(GT)', 'PT08.S2(NMHC)', 'NOx(GT)', 'PT08.S3(NOx)', 'NO2(GT)', 'PT08.S4(NO2)', 'PT08.S5(O3)', 'T', 'RH', 'AH', 'humidity_band', 'PT08.S1_noisy', 'moisture_index'])\n"
     ]
    }
   ],
   "source": [
    "\n",
    "print(\"Number of rows = {df.shape[0]}  \\nNumber of columns = {df.shape[1]}\")\n",
    "\n",
    "col = [col for col in df.columns if col not in ['Date', 'Time']]\n",
    "print(\"\\n frist 10 columns:\",col[:10])\n",
    "print(\"\\n dataset in tuple:\", (df.shape, col))"
   ]
  },
  {
   "cell_type": "markdown",
   "id": "052b0773",
   "metadata": {},
   "source": [
    "### Q3. CO(GT) summary with Pandas and NumPy\n",
    "Compute the **mean** and **standard deviation** of `CO(GT)` using both:\n",
    "- Pandas\n",
    "- NumPy"
   ]
  },
  {
   "cell_type": "code",
   "execution_count": 45,
   "id": "e5bfd6e3",
   "metadata": {},
   "outputs": [
    {
     "name": "stdout",
     "output_type": "stream",
     "text": [
      "-34.20752377898899\n",
      "77.65717034683162\n"
     ]
    }
   ],
   "source": [
    "# your Code Here\n",
    "mean_pandas = df['CO(GT)'].mean()\n",
    "print(mean_pandas)\n",
    "standarddeviation_pandas = df['CO(GT)'].std()\n",
    "print(standarddeviation_pandas)\n"
   ]
  },
  {
   "cell_type": "code",
   "execution_count": 46,
   "id": "91b7b375",
   "metadata": {},
   "outputs": [
    {
     "name": "stdout",
     "output_type": "stream",
     "text": [
      "-34.20752377898899\n",
      "77.65717034683162\n"
     ]
    }
   ],
   "source": [
    "co_GT_value = df['CO(GT)'].to_numpy()\n",
    "mean_numpy = np.nanmean(co_GT_value)\n",
    "std_numpy = np.nanstd(co_GT_value, ddof=1)   \n",
    "print(mean_numpy)\n",
    "print(std_numpy)\n"
   ]
  },
  {
   "cell_type": "markdown",
   "id": "2c7d4c36",
   "metadata": {},
   "source": [
    "### Q4. Absolute humidity (AH) distribution  \n",
    "Compute the **min**, **median**, and **max** of `AH` using Pandas.  \n",
    "\n",
    "Do you notice an issue in the values?  \n",
    "If you think that there are values that are problematic, replace them with the median of the column and print the same three statistics after that.\n"
   ]
  },
  {
   "cell_type": "code",
   "execution_count": 47,
   "id": "b94b3dec",
   "metadata": {},
   "outputs": [
    {
     "name": "stdout",
     "output_type": "stream",
     "text": [
      "AH before replacement:Min: 0.1847 \n",
      "Median: 0.9954 \n",
      "Max: 2.231\n",
      "\n",
      "AH After replacement:Min: 0.1847 \n",
      "Median: 0.9954 \n",
      "Max: 2.231\n"
     ]
    }
   ],
   "source": [
    "print(\"AH before replacement:Min:\", df['AH'].min(),\"\\nMedian:\", df['AH'].median(),\"\\nMax:\", df['AH'].max())\n",
    "\n",
    "median_valid = df.loc[df['AH'] > 0, 'AH'].median()\n",
    "df['AH'] = df['AH'].apply(lambda x: median_valid if x <= 0 else x)\n",
    "\n",
    "print(\"\\nAH After replacement:Min:\", df['AH'].min(), \"\\nMedian:\", df['AH'].median(), \"\\nMax:\", df['AH'].max())"
   ]
  },
  {
   "cell_type": "markdown",
   "id": "69f159ef",
   "metadata": {},
   "source": [
    "### Q5. Humidity bands\n",
    "Create a new column `humidity_band` using `RH`:\n",
    "- `'dry'` if `RH < 30`\n",
    "- `'comfortable'` if `30 <= RH <= 60`\n",
    "- `'humid'` if `RH > 60`\n",
    "\n",
    "Then show the **count** of each category."
   ]
  },
  {
   "cell_type": "code",
   "execution_count": 48,
   "id": "a5b7f973",
   "metadata": {},
   "outputs": [
    {
     "name": "stdout",
     "output_type": "stream",
     "text": [
      "humidity_band\n",
      "comfortable    4917\n",
      "humid          2633\n",
      "dry            1807\n",
      "Name: count, dtype: int64\n"
     ]
    }
   ],
   "source": [
    "df['humidity_band'] = pd.cut(df['RH'], bins=[-float('inf'), 30, 60, float('inf')], labels=['dry', 'comfortable', 'humid'])\n",
    "\n",
    "humidity_counts = df['humidity_band'].value_counts()\n",
    "print(humidity_counts)\n"
   ]
  },
  {
   "cell_type": "markdown",
   "id": "c67a14f4",
   "metadata": {},
   "source": [
    "### Q6. Compute the Average 'CO(GT)' for Humid Conditions  \n",
    "\n",
    "Using the `'humidity_band'` column created above, filter the dataset for rows labeled `'humid'` and compute the **average value of `'CO(GT)'`** for these observations.  \n",
    "\n",
    "Format the output to 4 decimal places for better readability and precision."
   ]
  },
  {
   "cell_type": "code",
   "execution_count": 50,
   "id": "0dc48585",
   "metadata": {},
   "outputs": [
    {
     "data": {
      "text/plain": [
       "np.float64(-35.556665400683634)"
      ]
     },
     "execution_count": 50,
     "metadata": {},
     "output_type": "execute_result"
    }
   ],
   "source": [
    "df[df['humidity_band'] == 'humid']\n",
    "df[df['humidity_band'] == 'humid']['CO(GT)'].mean()\n",
    "\n"
   ]
  },
  {
   "cell_type": "markdown",
   "id": "a2689ab4",
   "metadata": {},
   "source": [
    "### Q7. Retrieve and sort array by a specific column\n",
    "Create a NumPy array from the columns `[T, RH, AH]` (in this order), then sort the array by the **third column (`AH`)** ascending. Show the first 5 rows."
   ]
  },
  {
   "cell_type": "code",
   "execution_count": 52,
   "id": "61869dab",
   "metadata": {},
   "outputs": [
    {
     "name": "stdout",
     "output_type": "stream",
     "text": [
      "[[ 0.     29.7     0.1847]\n",
      " [11.8    13.5     0.1862]\n",
      " [ 0.2    30.2     0.191 ]\n",
      " [-0.1    31.9     0.1975]\n",
      " [12.2    14.      0.1988]]\n"
     ]
    }
   ],
   "source": [
    "# your Code Here\n",
    "tri_array = df[['T', 'RH', 'AH']].to_numpy()\n",
    "arr = tri_array[tri_array[:, 2].argsort()]\n",
    "print(arr[:5])"
   ]
  },
  {
   "cell_type": "markdown",
   "id": "3503b1f7",
   "metadata": {},
   "source": [
    "### Q8. Normalized moisture index\n",
    "\n",
    "Using the NumPy array you built above (**Do not change it**):  \n",
    "\n",
    "1. Using Numpy, **Convert RH to a fraction** (0–1 scale) by dividing it by 100 and save it to another array `RH_frac`.\n",
    "2. Using Numpy, **Compute a normalized moisture index** by dividing `AH` by `RH_frac`. This almost computes the amount of absolute humidity per unit of relative humidity.\n",
    "\n",
    "Print the first 10 values of this new array and then **store** the result in the original DataFrame as a new column `'moisture_index'`."
   ]
  },
  {
   "cell_type": "code",
   "execution_count": 53,
   "id": "762168d8",
   "metadata": {},
   "outputs": [
    {
     "name": "stdout",
     "output_type": "stream",
     "text": [
      "[0.62188552 1.37925926 0.63245033 0.61912226 1.42       1.39931034\n",
      " 0.63667712 1.23473054 1.36339869 1.17228261]\n"
     ]
    },
    {
     "data": {
      "text/html": [
       "<div>\n",
       "<style scoped>\n",
       "    .dataframe tbody tr th:only-of-type {\n",
       "        vertical-align: middle;\n",
       "    }\n",
       "\n",
       "    .dataframe tbody tr th {\n",
       "        vertical-align: top;\n",
       "    }\n",
       "\n",
       "    .dataframe thead th {\n",
       "        text-align: right;\n",
       "    }\n",
       "</style>\n",
       "<table border=\"1\" class=\"dataframe\">\n",
       "  <thead>\n",
       "    <tr style=\"text-align: right;\">\n",
       "      <th></th>\n",
       "      <th>Date</th>\n",
       "      <th>Time</th>\n",
       "      <th>CO(GT)</th>\n",
       "      <th>PT08.S1(CO)</th>\n",
       "      <th>NMHC(GT)</th>\n",
       "      <th>C6H6(GT)</th>\n",
       "      <th>PT08.S2(NMHC)</th>\n",
       "      <th>NOx(GT)</th>\n",
       "      <th>PT08.S3(NOx)</th>\n",
       "      <th>NO2(GT)</th>\n",
       "      <th>PT08.S4(NO2)</th>\n",
       "      <th>PT08.S5(O3)</th>\n",
       "      <th>T</th>\n",
       "      <th>RH</th>\n",
       "      <th>AH</th>\n",
       "      <th>humidity_band</th>\n",
       "      <th>PT08.S1_noisy</th>\n",
       "      <th>moisture_index</th>\n",
       "    </tr>\n",
       "  </thead>\n",
       "  <tbody>\n",
       "    <tr>\n",
       "      <th>0</th>\n",
       "      <td>10/03/2004</td>\n",
       "      <td>18.00.00</td>\n",
       "      <td>2.6</td>\n",
       "      <td>1360.0</td>\n",
       "      <td>150.0</td>\n",
       "      <td>11.9</td>\n",
       "      <td>1046.0</td>\n",
       "      <td>166.0</td>\n",
       "      <td>1056.0</td>\n",
       "      <td>113.0</td>\n",
       "      <td>1692.0</td>\n",
       "      <td>1268.0</td>\n",
       "      <td>13.6</td>\n",
       "      <td>48.9</td>\n",
       "      <td>0.7578</td>\n",
       "      <td>comfortable</td>\n",
       "      <td>1293.663398</td>\n",
       "      <td>0.621886</td>\n",
       "    </tr>\n",
       "    <tr>\n",
       "      <th>1</th>\n",
       "      <td>10/03/2004</td>\n",
       "      <td>19.00.00</td>\n",
       "      <td>2.0</td>\n",
       "      <td>1292.0</td>\n",
       "      <td>112.0</td>\n",
       "      <td>9.4</td>\n",
       "      <td>955.0</td>\n",
       "      <td>103.0</td>\n",
       "      <td>1174.0</td>\n",
       "      <td>92.0</td>\n",
       "      <td>1559.0</td>\n",
       "      <td>972.0</td>\n",
       "      <td>13.3</td>\n",
       "      <td>47.7</td>\n",
       "      <td>0.7255</td>\n",
       "      <td>comfortable</td>\n",
       "      <td>1442.129978</td>\n",
       "      <td>1.379259</td>\n",
       "    </tr>\n",
       "    <tr>\n",
       "      <th>2</th>\n",
       "      <td>10/03/2004</td>\n",
       "      <td>20.00.00</td>\n",
       "      <td>2.2</td>\n",
       "      <td>1402.0</td>\n",
       "      <td>88.0</td>\n",
       "      <td>9.0</td>\n",
       "      <td>939.0</td>\n",
       "      <td>131.0</td>\n",
       "      <td>1140.0</td>\n",
       "      <td>114.0</td>\n",
       "      <td>1555.0</td>\n",
       "      <td>1074.0</td>\n",
       "      <td>11.9</td>\n",
       "      <td>54.0</td>\n",
       "      <td>0.7502</td>\n",
       "      <td>comfortable</td>\n",
       "      <td>1401.083723</td>\n",
       "      <td>0.632450</td>\n",
       "    </tr>\n",
       "    <tr>\n",
       "      <th>3</th>\n",
       "      <td>10/03/2004</td>\n",
       "      <td>21.00.00</td>\n",
       "      <td>2.2</td>\n",
       "      <td>1376.0</td>\n",
       "      <td>80.0</td>\n",
       "      <td>9.2</td>\n",
       "      <td>948.0</td>\n",
       "      <td>172.0</td>\n",
       "      <td>1092.0</td>\n",
       "      <td>122.0</td>\n",
       "      <td>1584.0</td>\n",
       "      <td>1203.0</td>\n",
       "      <td>11.0</td>\n",
       "      <td>60.0</td>\n",
       "      <td>0.7867</td>\n",
       "      <td>comfortable</td>\n",
       "      <td>1451.602118</td>\n",
       "      <td>0.619122</td>\n",
       "    </tr>\n",
       "    <tr>\n",
       "      <th>4</th>\n",
       "      <td>10/03/2004</td>\n",
       "      <td>22.00.00</td>\n",
       "      <td>1.6</td>\n",
       "      <td>1272.0</td>\n",
       "      <td>51.0</td>\n",
       "      <td>6.5</td>\n",
       "      <td>836.0</td>\n",
       "      <td>131.0</td>\n",
       "      <td>1205.0</td>\n",
       "      <td>116.0</td>\n",
       "      <td>1490.0</td>\n",
       "      <td>1110.0</td>\n",
       "      <td>11.2</td>\n",
       "      <td>59.6</td>\n",
       "      <td>0.7888</td>\n",
       "      <td>comfortable</td>\n",
       "      <td>1361.755377</td>\n",
       "      <td>1.420000</td>\n",
       "    </tr>\n",
       "  </tbody>\n",
       "</table>\n",
       "</div>"
      ],
      "text/plain": [
       "         Date      Time  CO(GT)  PT08.S1(CO)  NMHC(GT)  C6H6(GT)  \\\n",
       "0  10/03/2004  18.00.00     2.6       1360.0     150.0      11.9   \n",
       "1  10/03/2004  19.00.00     2.0       1292.0     112.0       9.4   \n",
       "2  10/03/2004  20.00.00     2.2       1402.0      88.0       9.0   \n",
       "3  10/03/2004  21.00.00     2.2       1376.0      80.0       9.2   \n",
       "4  10/03/2004  22.00.00     1.6       1272.0      51.0       6.5   \n",
       "\n",
       "   PT08.S2(NMHC)  NOx(GT)  PT08.S3(NOx)  NO2(GT)  PT08.S4(NO2)  PT08.S5(O3)  \\\n",
       "0         1046.0    166.0        1056.0    113.0        1692.0       1268.0   \n",
       "1          955.0    103.0        1174.0     92.0        1559.0        972.0   \n",
       "2          939.0    131.0        1140.0    114.0        1555.0       1074.0   \n",
       "3          948.0    172.0        1092.0    122.0        1584.0       1203.0   \n",
       "4          836.0    131.0        1205.0    116.0        1490.0       1110.0   \n",
       "\n",
       "      T    RH      AH humidity_band  PT08.S1_noisy  moisture_index  \n",
       "0  13.6  48.9  0.7578   comfortable    1293.663398        0.621886  \n",
       "1  13.3  47.7  0.7255   comfortable    1442.129978        1.379259  \n",
       "2  11.9  54.0  0.7502   comfortable    1401.083723        0.632450  \n",
       "3  11.0  60.0  0.7867   comfortable    1451.602118        0.619122  \n",
       "4  11.2  59.6  0.7888   comfortable    1361.755377        1.420000  "
      ]
     },
     "execution_count": 53,
     "metadata": {},
     "output_type": "execute_result"
    }
   ],
   "source": [
    "RH_frac = arr[:, 1] / 100\n",
    "moisture_index = arr[:, 2] / RH_frac\n",
    "print(moisture_index[:10])\n",
    "df['moisture_index'] = moisture_index\n",
    "df.head()\n",
    "\n"
   ]
  },
  {
   "cell_type": "markdown",
   "id": "a11a58f0",
   "metadata": {},
   "source": [
    "### Q9. Temperature profile for high moisture index  \n",
    "\n",
    "Using Numpy only, and the `moisture_index` values you computed earlier:  \n",
    "\n",
    "1. Find the **median** of `moisture_index`.  \n",
    "2. Filter `tri_array` to include only rows where `moisture_index` is above this median.  \n",
    "3. Compute and print the **mean temperature** for this high-moisture group using only NumPy.\n",
    "\n",
    "Format the output to 4 decimal places for better readability and precision."
   ]
  },
  {
   "cell_type": "code",
   "execution_count": 54,
   "id": "a73167aa",
   "metadata": {},
   "outputs": [
    {
     "name": "stdout",
     "output_type": "stream",
     "text": [
      "First 10 moisture_index: [665.04 634.41 642.6  660.   667.52 663.04 641.84 642.   638.79 620.06]\n",
      "Median moisture_index: 820.06\n",
      "Mean temperature (high group): 21.6729\n"
     ]
    }
   ],
   "source": [
    "data = np.genfromtxt(\"AirQualityDataset.csv\", \n",
    "                     delimiter=\";\", skip_header=1, \n",
    "                     usecols=(12, 13, 14), dtype=float, \n",
    "                     filling_values=np.nan)\n",
    "\n",
    "mask = (~np.isnan(data).any(axis=1)) & np.all(data != -200, axis=1)\n",
    "clean = data[mask]\n",
    "mi = clean[:, 0] * clean[:, 1]\n",
    "median_mi = np.median(mi)\n",
    "high_group = clean[mi > median_mi]\n",
    "mean_temp = high_group[:, 0].mean()\n",
    "\n",
    "print(\"First 10 moisture_index:\", np.round(mi[:10], 4))\n",
    "print(\"Median moisture_index:\", round(median_mi, 4))\n",
    "print(\"Mean temperature (high group):\", round(mean_temp, 4))\n"
   ]
  },
  {
   "cell_type": "markdown",
   "id": "d4f85563",
   "metadata": {},
   "source": [
    "### Q10. Percentile-based filtering\n",
    "Compute:\n",
    "- the **85th percentile** of `C6H6(GT)` (benzene), and\n",
    "- the **25th percentile** of `RH`.\n",
    "\n",
    "Filter and return rows where `C6H6(GT)` is **above** its 85th percentile **and** `RH` is **below** its 25th percentile. Show the number of rows and the first 5 matches.\n"
   ]
  },
  {
   "cell_type": "code",
   "execution_count": 55,
   "id": "f5a1330a",
   "metadata": {},
   "outputs": [
    {
     "name": "stdout",
     "output_type": "stream",
     "text": [
      " C6H6(GT): nan RH: nan\n",
      "Number of rows: 0\n",
      "Empty DataFrame\n",
      "Columns: [Date, Time, CO(GT), PT08.S1(CO), NMHC(GT), C6H6(GT), PT08.S2(NMHC), NOx(GT), PT08.S3(NOx), NO2(GT), PT08.S4(NO2), PT08.S5(O3), T, RH, AH, humidity_band, PT08.S1_noisy, moisture_index]\n",
      "Index: []\n"
     ]
    }
   ],
   "source": [
    "p85 = np.percentile(df['C6H6(GT)'], 85)   \n",
    "p25  = np.percentile(df['RH'], 25)        \n",
    "print(\" C6H6(GT):\", p85 ,\"RH:\", p25 )\n",
    "\n",
    "fi_df = df[(df['C6H6(GT)'] > p85) & (df['RH'] < p25)]\n",
    "\n",
    "print(\"Number of rows:\", len(fi_df))\n",
    "print(fi_df.head())"
   ]
  },
  {
   "cell_type": "markdown",
   "id": "bc3593d0",
   "metadata": {},
   "source": [
    "### Q11. Simulate Sensor Measurement Noise and Analyze the Effect  \n",
    "\n",
    "Simulate **normally distributed measurement noise** with a mean of `0` and a standard deviation of `100` (in raw sensor units). Then:  \n",
    "\n",
    "- Use **NumPy** to generate the noise.  \n",
    "- Use **Pandas** to add this noise to the `'PT08.S1(CO)'` column and store the result in a new column `'PT08.S1_noisy'`.  \n",
    "- Print the **mean** and **standard deviation** of both `'PT08.S1(CO)'` and `'PT08.S1_noisy'` to observe the impact of the simulated noise.  \n",
    "\n",
    "Observe how the added noise affects the distribution, particularly the spread (**standard deviation**). Format all printed values to **4 decimal places** using `.4f`.  \n"
   ]
  },
  {
   "cell_type": "code",
   "execution_count": 56,
   "id": "1c909f31",
   "metadata": {},
   "outputs": [
    {
     "name": "stdout",
     "output_type": "stream",
     "text": [
      "   PT08.S1_noisy  PT08.S1(CO)\n",
      "0    1386.862898       1360.0\n",
      "1    1168.528412       1292.0\n",
      "2    1462.660810       1402.0\n",
      "3    1461.300081       1376.0\n",
      "4    1307.684235       1272.0\n"
     ]
    },
    {
     "data": {
      "text/html": [
       "<div>\n",
       "<style scoped>\n",
       "    .dataframe tbody tr th:only-of-type {\n",
       "        vertical-align: middle;\n",
       "    }\n",
       "\n",
       "    .dataframe tbody tr th {\n",
       "        vertical-align: top;\n",
       "    }\n",
       "\n",
       "    .dataframe thead th {\n",
       "        text-align: right;\n",
       "    }\n",
       "</style>\n",
       "<table border=\"1\" class=\"dataframe\">\n",
       "  <thead>\n",
       "    <tr style=\"text-align: right;\">\n",
       "      <th></th>\n",
       "      <th>PT08.S1(CO)</th>\n",
       "      <th>PT08.S1_noisy</th>\n",
       "    </tr>\n",
       "  </thead>\n",
       "  <tbody>\n",
       "    <tr>\n",
       "      <th>mean</th>\n",
       "      <td>1048.9901</td>\n",
       "      <td>1049.1281</td>\n",
       "    </tr>\n",
       "    <tr>\n",
       "      <th>std</th>\n",
       "      <td>329.8327</td>\n",
       "      <td>344.5808</td>\n",
       "    </tr>\n",
       "  </tbody>\n",
       "</table>\n",
       "</div>"
      ],
      "text/plain": [
       "      PT08.S1(CO)  PT08.S1_noisy\n",
       "mean    1048.9901      1049.1281\n",
       "std      329.8327       344.5808"
      ]
     },
     "execution_count": 56,
     "metadata": {},
     "output_type": "execute_result"
    }
   ],
   "source": [
    "# your Code Here\n",
    "df['PT08.S1_noisy'] = df['PT08.S1(CO)'] + np.random.randn(len(df)) * 100\n",
    "print(df[['PT08.S1_noisy', 'PT08.S1(CO)']].head())\n",
    "\n",
    "df[['PT08.S1(CO)', 'PT08.S1_noisy']].agg(['mean', 'std']).round(4).head()\n",
    "\n"
   ]
  },
  {
   "cell_type": "markdown",
   "id": "555bf415",
   "metadata": {},
   "source": [
    "# Make Your Results Reproducible\n",
    "\n",
    "If you re-run the previous cell multiple times, you'll notice that the results involving randomness (e.g., simulated noise) change each time. This is because NumPy generates new random numbers on every execution.\n",
    "\n",
    "To make your results **reproducible** (meaning that both you and your instructor get the **same output every time**) you need to set a fixed **random seed**.\n",
    "\n",
    "As the final task, go back and add the following line to your code **immediately after importing NumPy** for the first time in your notebook:\n",
    "\n",
    "```python\n",
    "np.random.seed(0)\n"
   ]
  },
  {
   "cell_type": "markdown",
   "id": "91503921",
   "metadata": {},
   "source": [
    "So, your NumPy import at the top of the notebook should now look like this:\n",
    "\n",
    "```python\n",
    "import numpy as np\n",
    "np.random.seed(0)\n"
   ]
  },
  {
   "cell_type": "markdown",
   "id": "3273ace9",
   "metadata": {},
   "source": [
    "# After Making This Change:\n",
    "\n",
    "- Re-run **all cells** in the notebook from top to bottom.  \n",
    "- Make sure **all outputs are visible**.  \n",
    "- **Save your notebook.**  \n",
    "- **Submit it as-is (with all outputs included.)**\n"
   ]
  }
 ],
 "metadata": {
  "kernelspec": {
   "display_name": "Python 3",
   "language": "python",
   "name": "python3"
  },
  "language_info": {
   "codemirror_mode": {
    "name": "ipython",
    "version": 3
   },
   "file_extension": ".py",
   "mimetype": "text/x-python",
   "name": "python",
   "nbconvert_exporter": "python",
   "pygments_lexer": "ipython3",
   "version": "3.13.5"
  }
 },
 "nbformat": 4,
 "nbformat_minor": 5
}
